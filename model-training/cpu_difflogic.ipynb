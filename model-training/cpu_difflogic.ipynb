{
 "cells": [
  {
   "cell_type": "code",
   "execution_count": 1,
   "id": "ad547e88-45bb-401b-818e-dcb83ce96697",
   "metadata": {
    "tags": []
   },
   "outputs": [],
   "source": [
    "# PyTorch Utilities\n",
    "import torch\n",
    "import torch.nn as nn\n",
    "from torch.utils.data import DataLoader, Dataset, Subset\n",
    "from tqdm import tqdm  "
   ]
  },
  {
   "cell_type": "markdown",
   "id": "a6ed907f-0447-4440-9955-77fd46d0883b",
   "metadata": {
    "jp-MarkdownHeadingCollapsed": true,
    "tags": []
   },
   "source": [
    "##### Dataset stuff"
   ]
  },
  {
   "cell_type": "code",
   "execution_count": 2,
   "id": "327b6588-b309-4843-a454-9e7c8c82d9f6",
   "metadata": {
    "tags": []
   },
   "outputs": [
    {
     "name": "stderr",
     "output_type": "stream",
     "text": [
      "/blue/woodard/mkunzlermaldaner/EXPLOGIC/explogic_env/lib/python3.9/site-packages/torchvision/datasets/mnist.py:498: UserWarning: The given NumPy array is not writeable, and PyTorch does not support non-writeable tensors. This means you can write to the underlying (supposedly non-writeable) NumPy array using the tensor. You may want to copy the array to protect its data or make it writeable before converting it to a tensor. This type of warning will be suppressed for the rest of this program. (Triggered internally at  /pytorch/torch/csrc/utils/tensor_numpy.cpp:180.)\n",
      "  return torch.from_numpy(parsed.astype(m[2], copy=False)).view(*s)\n"
     ]
    },
    {
     "name": "stdout",
     "output_type": "stream",
     "text": [
      "Balanced Train Dataset Size: 54210\n",
      "Balanced Test Dataset Size: 8920\n"
     ]
    },
    {
     "data": {
      "image/png": "[encoded data removed]",
      "text/plain": [
       "<Figure size 640x480 with 1 Axes>"
      ]
     },
     "metadata": {},
     "output_type": "display_data"
    }
   ],
   "source": [
    "import numpy as np\n",
    "import random\n",
    "from utils import dataset_getter as dat\n",
    "import matplotlib.pyplot as plt\n",
    "\n",
    "# Dataset and Preprocessing Settings\n",
    "crop = (20,20)  # Cropping configuration: None removes no border, specify (x,x) for cropping dimensions\n",
    "\n",
    "# Dataset Selection\n",
    "# Options: \"mnist\" or \"fashion_mnist\"\n",
    "dataset_name = \"mnist\"\n",
    "\n",
    "# Bits Per Pixel (Fixed at 1 for binary data in ExpLogic)\n",
    "bpp = 1\n",
    "\n",
    "# Ensuring Reproducibility Across Runs\n",
    "# Seeds for Random Generators in PyTorch, NumPy, and Python\n",
    "seed_value = 42\n",
    "torch.manual_seed(seed_value)\n",
    "torch.cuda.manual_seed(seed_value)\n",
    "np.random.seed(seed_value)\n",
    "random.seed(seed_value)\n",
    "\n",
    "# DataLoader Parameters\n",
    "batch_size = 512\n",
    "train_loader, test_loader, input_dim, out_dim = dat.get_dataset(\n",
    "    dataset_name, batch_size=batch_size, data_dir=\"./data\", bpp=bpp, crop=crop\n",
    ")\n",
    "\n",
    "# Analyze and Balance Class Distribution in Dataset\n",
    "train_targets = train_loader.dataset.targets\n",
    "test_targets = test_loader.dataset.targets\n",
    "\n",
    "# Class-Wise Sample Count\n",
    "train_class_counts = [torch.sum(train_targets == i).item() for i in range(10)]\n",
    "test_class_counts = [torch.sum(test_targets == i).item() for i in range(10)]\n",
    "\n",
    "# Determine Minimum Samples Per Class for Balanced Dataset\n",
    "min_samples_train = min(train_class_counts)\n",
    "min_samples_test = min(test_class_counts)\n",
    "\n",
    "# Define Function to Trim Datasets for Balance\n",
    "def balance_dataset(dataset, targets, min_samples):\n",
    "    indices = []\n",
    "    for class_label in range(10):\n",
    "        class_indices = (targets == class_label).nonzero(as_tuple=True)[0]\n",
    "        indices.extend(class_indices[:min_samples])\n",
    "\n",
    "    # Shuffle Indices to Randomize the Dataset\n",
    "    indices = torch.tensor(indices)\n",
    "    shuffled_indices = indices[torch.randperm(indices.size(0))]\n",
    "    \n",
    "    return Subset(dataset, shuffled_indices)\n",
    "\n",
    "# Apply Balancing to Train and Test Datasets\n",
    "balanced_train_dataset = balance_dataset(train_loader.dataset, train_targets, min_samples_train)\n",
    "balanced_test_dataset = balance_dataset(test_loader.dataset, test_targets, min_samples_test)\n",
    "\n",
    "# Re-Initialize DataLoaders with Balanced Datasets\n",
    "train_loader_balanced = DataLoader(\n",
    "    balanced_train_dataset, batch_size=batch_size, shuffle=True, pin_memory=True, drop_last=True\n",
    ")\n",
    "test_loader_balanced = DataLoader(\n",
    "    balanced_test_dataset, batch_size=batch_size, shuffle=False, pin_memory=True, drop_last=True\n",
    ")\n",
    "\n",
    "# Verify New Dataset Sizes\n",
    "print(f\"Balanced Train Dataset Size: {len(train_loader_balanced.dataset)}\")\n",
    "print(f\"Balanced Test Dataset Size: {len(test_loader_balanced.dataset)}\")\n",
    "\n",
    "# Update Loaders and Datasets for Subsequent Use\n",
    "train_loader = train_loader_balanced\n",
    "test_loader = test_loader_balanced\n",
    "\n",
    "# Visualize a Random Image from the Balanced Training Dataset\n",
    "data_index = random.randint(0, len(train_loader.dataset) - 1)\n",
    "random_image, _ = train_loader.dataset[data_index]\n",
    "\n",
    "# Process Image for Display\n",
    "image_shape = (20, 20) if crop else (28, 28)\n",
    "processed_image = np.array([\n",
    "    np.sum([random_image[(i * bpp) + j] * (2 ** (bpp - j + 1)) for j in range(bpp)])\n",
    "    for i in range(image_shape[0] * image_shape[0])\n",
    "]).reshape(image_shape)\n",
    "\n",
    "# Plot the Processed Image\n",
    "plt.figure()\n",
    "plt.imshow(processed_image, cmap=\"gray\")\n",
    "plt.title(\"Sample Image from Balanced Dataset\")\n",
    "plt.show()"
   ]
  },
  {
   "cell_type": "markdown",
   "id": "7660348a-c21c-46b2-89d4-7f7612c92ba4",
   "metadata": {
    "jp-MarkdownHeadingCollapsed": true,
    "tags": []
   },
   "source": [
    "##### CPU Based Logic Layer"
   ]
  },
  {
   "cell_type": "code",
   "execution_count": 3,
   "id": "c3eb6dc7-1ebd-4ea9-8bd1-60e406111541",
   "metadata": {
    "tags": []
   },
   "outputs": [],
   "source": [
    "class LogicLayer(torch.nn.Module):\n",
    "    \"\"\"\n",
    "    The core module for differentiable logic gate networks. Provides a differentiable logic gate layer.\n",
    "    \"\"\"\n",
    "    def __init__(\n",
    "            self,\n",
    "            in_dim: int,\n",
    "            out_dim: int,\n",
    "            device: str = 'cpu',\n",
    "            grad_factor: float = 1.,\n",
    "            implementation: str = 'cpu',\n",
    "            connections: str = 'random',\n",
    "    ):\n",
    "        \"\"\"\n",
    "        :param in_dim:      input dimensionality of the layer\n",
    "        :param out_dim:     output dimensionality of the layer\n",
    "        :param device:      device (options: 'cpu')\n",
    "        :param grad_factor: for deep models (>6 layers), the grad_factor should be increased (e.g., 2) to avoid vanishing gradients\n",
    "        :param implementation: implementation to use (options: 'python').\n",
    "        :param connections: method for initializing the connectivity of the logic gate net\n",
    "        \"\"\"\n",
    "        super().__init__()\n",
    "        self.weights = torch.nn.parameter.Parameter(torch.randn(out_dim, 16, device=device))\n",
    "        self.in_dim = in_dim\n",
    "        self.out_dim = out_dim\n",
    "        self.device = device\n",
    "        self.grad_factor = grad_factor\n",
    "\n",
    "        # forces implementation to be python and use cpu\n",
    "        self.implementation = 'python'\n",
    "        #self.implementation = implementation\n",
    "  \n",
    "        if self.implementation is None and device == 'cpu':\n",
    "            self.implementation = 'python'\n",
    "        assert self.implementation in ['python'], self.implementation\n",
    "\n",
    "        self.connections = connections\n",
    "        assert self.connections in ['random', 'unique'], self.connections\n",
    "        self.indices = self.get_connections(self.connections, device)\n",
    "\n",
    "        self.num_neurons = out_dim\n",
    "        self.num_weights = out_dim\n",
    "\n",
    "    def forward(self, x):\n",
    "        if self.implementation == 'python':\n",
    "            return self.forward_python(x)\n",
    "        else:\n",
    "            raise ValueError(self.implementation)\n",
    "\n",
    "    def forward_python(self, x):\n",
    "        assert x.shape[-1] == self.in_dim, (x[0].shape[-1], self.in_dim)\n",
    "\n",
    "        if self.indices[0].dtype == torch.int64 or self.indices[1].dtype == torch.int64:            \n",
    "            self.indices = self.indices[0].long(), self.indices[1].long()   \n",
    "\n",
    "        a, b = x[..., self.indices[0]], x[..., self.indices[1]]\n",
    "        if self.training:\n",
    "            x = bin_op_s(a, b, torch.nn.functional.softmax(self.weights, dim=-1))\n",
    "        else:\n",
    "            weights = torch.nn.functional.one_hot(self.weights.argmax(-1), 16).to(torch.float32)\n",
    "            x = bin_op_s(a, b, weights)\n",
    "        return x\n",
    "\n",
    "    def extra_repr(self):\n",
    "        return '{}, {}, {}'.format(self.in_dim, self.out_dim, 'train' if self.training else 'eval')\n",
    "\n",
    "    def get_connections(self, connections, device='cpu'):\n",
    "        assert self.out_dim * 2 >= self.in_dim, 'The number of neurons ({}) must not be smaller than half of the ' \\\n",
    "                                                'number of inputs ({}) because otherwise not all inputs could be ' \\\n",
    "                                                'used or considered.'.format(self.out_dim, self.in_dim)\n",
    "        if connections == 'random':\n",
    "            c = torch.randperm(2 * self.out_dim) % self.in_dim\n",
    "            c = torch.randperm(self.in_dim)[c]\n",
    "            c = c.reshape(2, self.out_dim)\n",
    "            a, b = c[0], c[1]\n",
    "            a, b = a.to(torch.int64), b.to(torch.int64)\n",
    "            a, b = a.to(device), b.to(device)\n",
    "            return a, b\n",
    "        elif connections == 'unique':\n",
    "            return get_unique_connections(self.in_dim, self.out_dim, device)\n",
    "        else:\n",
    "            raise ValueError(connections)"
   ]
  },
  {
   "cell_type": "markdown",
   "id": "a624075e-f28d-4cdd-8b88-3cad8d6822f8",
   "metadata": {
    "jp-MarkdownHeadingCollapsed": true,
    "tags": []
   },
   "source": [
    "##### CPU Bin Op S"
   ]
  },
  {
   "cell_type": "code",
   "execution_count": 4,
   "id": "74d444dd-3931-4d15-b7ec-d885dc904fbf",
   "metadata": {
    "tags": []
   },
   "outputs": [],
   "source": [
    "def bin_op(a, b, i):\n",
    "    assert a[0].shape == b[0].shape, (a[0].shape, b[0].shape)\n",
    "    if a.shape[0] > 1:\n",
    "        assert a[1].shape == b[1].shape, (a[1].shape, b[1].shape)\n",
    "\n",
    "    if i == 0:\n",
    "        return torch.zeros_like(a)\n",
    "    elif i == 1:\n",
    "        return a * b\n",
    "    elif i == 2:\n",
    "        return a - a * b\n",
    "    elif i == 3:\n",
    "        return a\n",
    "    elif i == 4:\n",
    "        return b - a * b\n",
    "    elif i == 5:\n",
    "        return b\n",
    "    elif i == 6:\n",
    "        return a + b - 2 * a * b\n",
    "    elif i == 7:\n",
    "        return a + b - a * b\n",
    "    elif i == 8:\n",
    "        return 1 - (a + b - a * b)\n",
    "    elif i == 9:\n",
    "        return 1 - (a + b - 2 * a * b)\n",
    "    elif i == 10:\n",
    "        return 1 - b\n",
    "    elif i == 11:\n",
    "        return 1 - b + a * b\n",
    "    elif i == 12:\n",
    "        return 1 - a\n",
    "    elif i == 13:\n",
    "        return 1 - a + a * b\n",
    "    elif i == 14:\n",
    "        return 1 - a * b\n",
    "    elif i == 15:\n",
    "        return torch.ones_like(a)\n",
    "\n",
    "def bin_op_s(a, b, i_s):\n",
    "    device = 'cpu'\n",
    "    b = b.to(device)\n",
    "    i_s = i_s.to(device)\n",
    "\n",
    "    r = torch.zeros_like(a, device=device)\n",
    "    for i in range(16):\n",
    "        u = bin_op(a, b, i)\n",
    "        r = r + i_s[..., i] * u\n",
    "    return r"
   ]
  },
  {
   "cell_type": "markdown",
   "id": "ee553360-1de5-4d40-8ccc-6e65a3e02114",
   "metadata": {
    "jp-MarkdownHeadingCollapsed": true,
    "tags": []
   },
   "source": [
    "##### CPU Based GroupSum function"
   ]
  },
  {
   "cell_type": "code",
   "execution_count": 5,
   "id": "a91561e9-275b-40b5-9b3d-061e16abd515",
   "metadata": {
    "tags": []
   },
   "outputs": [],
   "source": [
    "class GroupSum(torch.nn.Module):\n",
    "    \"\"\"\n",
    "    The GroupSum module.\n",
    "    \"\"\"\n",
    "    def __init__(self, k: int, tau: float = 1., device='cpu'):\n",
    "        \"\"\"\n",
    "        :param k: number of intended real valued outputs, e.g., number of classes\n",
    "        :param tau: the (softmax) temperature tau. The summed outputs are divided by tau.\n",
    "        :param device: cpu\n",
    "        \"\"\"\n",
    "        super().__init__()\n",
    "        self.k = k\n",
    "        self.tau = tau\n",
    "        self.device = device\n",
    "\n",
    "    def forward(self, x):\n",
    "        assert x.shape[-1] % self.k == 0, (x.shape, self.k)\n",
    "        return x.reshape(*x.shape[:-1], self.k, x.shape[-1] // self.k).sum(-1) / self.tau\n",
    "\n",
    "    def extra_repr(self):\n",
    "        return 'k={}, tau={}'.format(self.k, self.tau)"
   ]
  },
  {
   "cell_type": "markdown",
   "id": "b4bf6022-4a7d-49e7-904c-cffd24fc246c",
   "metadata": {
    "jp-MarkdownHeadingCollapsed": true,
    "tags": []
   },
   "source": [
    "##### CPU Based DiffLogic"
   ]
  },
  {
   "cell_type": "code",
   "execution_count": 6,
   "id": "5e1c9fc8-7d85-421a-be24-0c50ae01bfc0",
   "metadata": {
    "tags": []
   },
   "outputs": [],
   "source": [
    "class DiffLogic(nn.Module):\n",
    "    def __init__(self, layers_config, output_size, tau=30):\n",
    "        \"\"\"\n",
    "        Initializes the DiffLogic model with the specified layer configurations, output size, and temperature parameter.\n",
    "\n",
    "        Args:\n",
    "            layers_config (dict): Configuration for each logic layer, including dimensions, device, implementation, connections, and grad factor.\n",
    "            output_size (int): The number of output groups (classes in a classification problem).\n",
    "            tau (int): Temperature parameter for the GroupSum operation.\n",
    "        \"\"\"\n",
    "        super(DiffLogic, self).__init__()\n",
    "        \n",
    "        # stores the logic layers\n",
    "        layers = []\n",
    "        for layer_name, config in layers_config.items():\n",
    "            layer = LogicLayer(\n",
    "                in_dim=config['in_dim'],\n",
    "                out_dim=config['out_dim'],\n",
    "                device=config['device'],\n",
    "                implementation=config['implementation'],\n",
    "                connections=config['connections'],\n",
    "                grad_factor=config['grad_factor']       \n",
    "            )\n",
    "            layers.append(layer)\n",
    "            print(layer)\n",
    "        \n",
    "        self.logic_layers = nn.Sequential(*layers)\n",
    "        self.group = GroupSum(k=output_size, tau=tau)\n",
    "        self.log_text = \"\"  # initializes logging string\n",
    "\n",
    "    def forward(self, x):\n",
    "        \"\"\"\n",
    "        Forward pass of the DiffLogic model.\n",
    "\n",
    "        Args:\n",
    "            x (torch.Tensor): Input tensor.\n",
    "\n",
    "        Returns:\n",
    "            torch.Tensor: Output tensor after processing through the logic layers and grouping operation.\n",
    "        \"\"\"        \n",
    "        logits = self.logic_layers(x)\n",
    "        group = self.group(logits)\n",
    "        return group\n",
    "    \n",
    "    def save(self, file_path, model_name='model', model_cfg=None):\n",
    "        \"\"\"\n",
    "        Saves the model's state dictionary plus all relevant architecture info\n",
    "        to the specified file path.\n",
    "\n",
    "        Args:\n",
    "            file_path (str): Path where the model will be saved.\n",
    "            model_name (str): Name of the saved model.\n",
    "            model_cfg (dict): The full dictionary that contains layer config,\n",
    "                              output_size, tau, learning rate, etc.\n",
    "        \"\"\"\n",
    "        checkpoint_data = {\n",
    "            'model_state_dict': self.state_dict(),\n",
    "            'connections': [\n",
    "                layer.indices \n",
    "                for layer in self.logic_layers \n",
    "                if isinstance(layer, LogicLayer)\n",
    "            ],\n",
    "            # Store the entire config so you can reconstruct everything\n",
    "            'model_config': {\n",
    "                'layers_config': model_cfg['layers_config'],\n",
    "                'output_size': model_cfg['output_size'],\n",
    "                'tau': model_cfg['tau'],\n",
    "                'learning_rate': model_cfg.get('learning_rate', None),\n",
    "            }\n",
    "        }\n",
    "\n",
    "        # Now dump that all out to disk\n",
    "        torch.save(checkpoint_data, os.path.join(file_path, f\"{model_name}.pth\"))\n",
    "        self.log_text += f\"Model saved to: {file_path}\\n\"\n",
    "\n",
    "\n",
    "    def load(self, file_path):\n",
    "        \"\"\"\n",
    "        Loads the model's state dictionary from the specified file path.\n",
    "\n",
    "        Args:\n",
    "            file_path (str): Path from which the model will be loaded.\n",
    "\n",
    "        Returns:\n",
    "            None\n",
    "        \"\"\"\n",
    "        checkpoint = torch.load(file_path)\n",
    "        self.load_state_dict(checkpoint['model_state_dict'])\n",
    "\n",
    "        # assigns connections to each LogicLayer\n",
    "        for idx, layer in enumerate(self.logic_layers):\n",
    "            if isinstance(layer, LogicLayer):\n",
    "                layer.indices = checkpoint['connections'][idx]\n",
    "\n",
    "        self.eval()\n",
    "        self.log_text += f\"Model loaded from: {file_path}\\n\"\n",
    "     \n",
    "    def get_accuracy(self, data_loader):\n",
    "        \"\"\"\n",
    "        Calculates the accuracy of the model against a data loader\n",
    "\n",
    "        Args:\n",
    "            data_loader: a DataLoader object, e.g. train_loader or test_loader\n",
    "\n",
    "        Returns:\n",
    "            float: The accuracy\n",
    "        \"\"\"\n",
    "        correct = 0\n",
    "        total = 0\n",
    "\n",
    "        # ensures that model is in evaluation mode\n",
    "        self.eval()\n",
    "\n",
    "        with torch.no_grad():  # Disable gradient calculation for inference\n",
    "            for batch_inputs, batch_outputs in tqdm(data_loader, desc=\"Running Inference\"):\n",
    "                batch_inputs, batch_outputs = batch_inputs.to('cpu'), batch_outputs.to('cpu')\n",
    "\n",
    "                # forward pass to get predictions\n",
    "                outputs = self(batch_inputs.float())\n",
    "\n",
    "                # gets the predicted class (index of the maximum logit)\n",
    "                _, predicted = torch.max(outputs.data, 1)\n",
    "\n",
    "                # counting correct predictions\n",
    "                total += batch_outputs.size(0)  # total number of samples in the batch\n",
    "                correct += (predicted == batch_outputs).sum().item()  # counting correct predictions\n",
    "\n",
    "        accuracy = correct / total\n",
    "        return accuracy\n",
    "\n",
    "    def get_log(self):\n",
    "        \"\"\"\n",
    "        Retrieves the log text and clears the log after retrieval.\n",
    "\n",
    "        Returns:\n",
    "            str: The log text.\n",
    "        \"\"\"\n",
    "        log_copy = self.log_text\n",
    "        self.log_text = \"\"  # Clear the log after returning\n",
    "        return log_copy"
   ]
  },
  {
   "cell_type": "markdown",
   "id": "7020067c-d22d-4d66-9ce8-6732a5429b3a",
   "metadata": {},
   "source": [
    "##### Model Loading without Cuda"
   ]
  },
  {
   "cell_type": "code",
   "execution_count": 19,
   "id": "9f7660cd-1f20-4d54-b712-3c21af11ed90",
   "metadata": {
    "tags": []
   },
   "outputs": [],
   "source": [
    "model_name = 'model_001'\n",
    "file_path = f'trained_models/{dataset_name}_trained_models/{model_name}.pth' # where to save your trained models\n",
    "checkpoint = torch.load(file_path, map_location=\"cpu\") "
   ]
  },
  {
   "cell_type": "code",
   "execution_count": 20,
   "id": "a36f01fc-c358-4d2e-8468-425517afa426",
   "metadata": {
    "tags": []
   },
   "outputs": [
    {
     "name": "stdout",
     "output_type": "stream",
     "text": [
      "{'layers_config': {'LogicLayer001': {'connections': 'random', 'device': 'cpu', 'grad_factor': 2, 'implementation': 'cpu', 'in_dim': 400, 'out_dim': 2500}, 'LogicLayer002': {'connections': 'random', 'device': 'cpu', 'grad_factor': 2, 'implementation': 'cpu', 'in_dim': 2500, 'out_dim': 2500}}, 'output_size': 10, 'tau': 10, 'learning_rate': 0.01}\n"
     ]
    }
   ],
   "source": [
    "# Access the layers_config part of the model_config\n",
    "layers_config = checkpoint['model_config']['layers_config']\n",
    "\n",
    "# Iterate through each layer and update 'device' and 'implementation' keys if they are 'cuda'\n",
    "for layer_name, config in layers_config.items():\n",
    "    if config.get('device') == 'cuda':\n",
    "        config['device'] = 'cpu'\n",
    "    if config.get('implementation') == 'cuda':\n",
    "        config['implementation'] = 'cpu'\n",
    "\n",
    "# Verify the changes\n",
    "loaded_config = checkpoint['model_config']\n",
    "print(loaded_config)"
   ]
  },
  {
   "cell_type": "code",
   "execution_count": 21,
   "id": "c0d2e119-0582-4952-a968-cd527fc05cf6",
   "metadata": {
    "tags": []
   },
   "outputs": [],
   "source": [
    "dataset_name = 'mnist'"
   ]
  },
  {
   "cell_type": "code",
   "execution_count": 22,
   "id": "4989f8fe-1211-433e-80ea-fb1d01e626bb",
   "metadata": {
    "tags": []
   },
   "outputs": [
    {
     "name": "stdout",
     "output_type": "stream",
     "text": [
      "LogicLayer(400, 2500, train)\n",
      "LogicLayer(2500, 2500, train)\n"
     ]
    },
    {
     "data": {
      "text/plain": [
       "DiffLogic(\n",
       "  (logic_layers): Sequential(\n",
       "    (0): LogicLayer(400, 2500, eval)\n",
       "    (1): LogicLayer(2500, 2500, eval)\n",
       "  )\n",
       "  (group): GroupSum(k=10, tau=10)\n",
       ")"
      ]
     },
     "execution_count": 22,
     "metadata": {},
     "output_type": "execute_result"
    }
   ],
   "source": [
    "# Now reconstruct the model using the saved config\n",
    "model_reconstructed = DiffLogic(\n",
    "    layers_config=loaded_config['layers_config'],\n",
    "    output_size=loaded_config['output_size'],\n",
    "    tau=loaded_config['tau']\n",
    ")\n",
    "\n",
    "# Load the state_dict\n",
    "model_reconstructed.load_state_dict(checkpoint['model_state_dict'])\n",
    "\n",
    "# If needed, also restore the connections\n",
    "for idx, layer in enumerate(model_reconstructed.logic_layers):\n",
    "    if isinstance(layer, LogicLayer):\n",
    "        layer.indices = checkpoint['connections'][idx]\n",
    "\n",
    "model_reconstructed.eval()"
   ]
  },
  {
   "cell_type": "code",
   "execution_count": 23,
   "id": "d7c6f9f8-2225-4765-b073-48bde2bc5030",
   "metadata": {
    "tags": []
   },
   "outputs": [
    {
     "name": "stderr",
     "output_type": "stream",
     "text": [
      "Running Inference: 100%|██████████| 17/17 [00:07<00:00,  2.24it/s]\n"
     ]
    },
    {
     "data": {
      "text/plain": [
       "0.7548253676470589"
      ]
     },
     "execution_count": 23,
     "metadata": {},
     "output_type": "execute_result"
    }
   ],
   "source": [
    "model_reconstructed.get_accuracy(test_loader)"
   ]
  },
  {
   "cell_type": "code",
   "execution_count": null,
   "id": "3c028eea-8b4d-4332-90e4-badd96e25309",
   "metadata": {},
   "outputs": [],
   "source": []
  }
 ],
 "metadata": {
  "kernelspec": {
   "display_name": "EXPLOGIC",
   "language": "python",
   "name": "explogic_env"
  },
  "language_info": {
   "codemirror_mode": {
    "name": "ipython",
    "version": 3
   },
   "file_extension": ".py",
   "mimetype": "text/x-python",
   "name": "python",
   "nbconvert_exporter": "python",
   "pygments_lexer": "ipython3",
   "version": "3.9.21"
  }
 },
 "nbformat": 4,
 "nbformat_minor": 5
}
