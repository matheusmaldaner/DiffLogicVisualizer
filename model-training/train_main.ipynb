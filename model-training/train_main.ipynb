{
 "cells": [
  {
   "cell_type": "markdown",
   "id": "3657b3a9-734c-4026-a861-ccfb709ac9ff",
   "metadata": {
    "tags": []
   },
   "source": [
    "#### **Dependencies**"
   ]
  },
  {
   "cell_type": "code",
   "execution_count": 19,
   "id": "35e3b495-aa6c-401c-9ebb-9b0af3948f15",
   "metadata": {
    "tags": []
   },
   "outputs": [],
   "source": [
    "# Importing Required Libraries and Modules\n",
    "import os\n",
    "import time\n",
    "import copy\n",
    "import random\n",
    "import pickle\n",
    "import importlib as lib\n",
    "from collections import defaultdict\n",
    "import json\n",
    "\n",
    "# Data Manipulation and Configuration\n",
    "import numpy as np\n",
    "import pandas as pd\n",
    "import yaml\n",
    "\n",
    "# PyTorch Utilities\n",
    "import torch\n",
    "import torch.nn as nn\n",
    "from torch.utils.data import DataLoader, Dataset, Subset\n",
    "\n",
    "# Image Processing Libraries\n",
    "import cv2\n",
    "import matplotlib.pyplot as plt\n",
    "from matplotlib import rc\n",
    "import torchvision.transforms as transforms\n",
    "from torchvision.transforms import Resize, ToTensor, Compose, Lambda\n",
    "\n",
    "# Utility Functions\n",
    "from utils import mnist_dataset\n",
    "from utils import dataset_getter as dat\n",
    "\n",
    "# Metrics and Evaluation\n",
    "from tqdm import tqdm\n",
    "\n",
    "# Logic Layer Implementation\n",
    "from difflogic import LogicLayer, GroupSum, PackBitsTensor\n",
    "import difflogic_cuda\n",
    "\n",
    "# Configuration Management with Hydra\n",
    "from hydra import initialize, compose"
   ]
  },
  {
   "cell_type": "code",
   "execution_count": 2,
   "id": "1af6a84f-c3f4-4fe6-afb7-da89918366bd",
   "metadata": {
    "tags": []
   },
   "outputs": [
    {
     "name": "stdout",
     "output_type": "stream",
     "text": [
      "Detected GPUs: 1\n"
     ]
    }
   ],
   "source": [
    "# Display Available GPU Information\n",
    "print(f\"Detected GPUs: {torch.cuda.device_count()}\")"
   ]
  },
  {
   "cell_type": "markdown",
   "id": "6f635a35-7354-449f-9523-dca306ad331f",
   "metadata": {
    "tags": []
   },
   "source": [
    "#### **Dataset**"
   ]
  },
  {
   "cell_type": "code",
   "execution_count": 3,
   "id": "1c8d4caf-68c9-40cf-8753-321d7fa11678",
   "metadata": {
    "tags": []
   },
   "outputs": [
    {
     "name": "stderr",
     "output_type": "stream",
     "text": [
      "/blue/woodard/mkunzlermaldaner/EXPLOGIC/explogic_env/lib/python3.9/site-packages/torchvision/datasets/mnist.py:498: UserWarning: The given NumPy array is not writeable, and PyTorch does not support non-writeable tensors. This means you can write to the underlying (supposedly non-writeable) NumPy array using the tensor. You may want to copy the array to protect its data or make it writeable before converting it to a tensor. This type of warning will be suppressed for the rest of this program. (Triggered internally at  /pytorch/torch/csrc/utils/tensor_numpy.cpp:180.)\n",
      "  return torch.from_numpy(parsed.astype(m[2], copy=False)).view(*s)\n"
     ]
    },
    {
     "name": "stdout",
     "output_type": "stream",
     "text": [
      "Balanced Train Dataset Size: 54210\n",
      "Balanced Test Dataset Size: 8920\n"
     ]
    },
    {
     "data": {
      "image/png": "[encoded data removed]",
      "text/plain": [
       "<Figure size 640x480 with 1 Axes>"
      ]
     },
     "metadata": {},
     "output_type": "display_data"
    }
   ],
   "source": [
    "# Dataset and Preprocessing Settings\n",
    "crop = (20,20)  # Cropping configuration: None removes no border, specify (x,x) for cropping dimensions\n",
    "\n",
    "# Dataset Selection\n",
    "# Options: \"mnist\" or \"fashion_mnist\"\n",
    "dataset_name = \"mnist\"\n",
    "\n",
    "# Bits Per Pixel (Fixed at 1 for binary data in ExpLogic)\n",
    "bpp = 1\n",
    "\n",
    "# Ensuring Reproducibility Across Runs\n",
    "# Seeds for Random Generators in PyTorch, NumPy, and Python\n",
    "seed_value = 42\n",
    "torch.manual_seed(seed_value)\n",
    "torch.cuda.manual_seed(seed_value)\n",
    "np.random.seed(seed_value)\n",
    "random.seed(seed_value)\n",
    "\n",
    "# DataLoader Parameters\n",
    "batch_size = 512\n",
    "train_loader, test_loader, input_dim, out_dim = dat.get_dataset(\n",
    "    dataset_name, batch_size=batch_size, data_dir=\"./data\", bpp=bpp, crop=crop\n",
    ")\n",
    "\n",
    "# Analyze and Balance Class Distribution in Dataset\n",
    "train_targets = train_loader.dataset.targets\n",
    "test_targets = test_loader.dataset.targets\n",
    "\n",
    "# Class-Wise Sample Count\n",
    "train_class_counts = [torch.sum(train_targets == i).item() for i in range(10)]\n",
    "test_class_counts = [torch.sum(test_targets == i).item() for i in range(10)]\n",
    "\n",
    "# Determine Minimum Samples Per Class for Balanced Dataset\n",
    "min_samples_train = min(train_class_counts)\n",
    "min_samples_test = min(test_class_counts)\n",
    "\n",
    "# Define Function to Trim Datasets for Balance\n",
    "def balance_dataset(dataset, targets, min_samples):\n",
    "    indices = []\n",
    "    for class_label in range(10):\n",
    "        class_indices = (targets == class_label).nonzero(as_tuple=True)[0]\n",
    "        indices.extend(class_indices[:min_samples])\n",
    "\n",
    "    # Shuffle Indices to Randomize the Dataset\n",
    "    indices = torch.tensor(indices)\n",
    "    shuffled_indices = indices[torch.randperm(indices.size(0))]\n",
    "    \n",
    "    return Subset(dataset, shuffled_indices)\n",
    "\n",
    "# Apply Balancing to Train and Test Datasets\n",
    "balanced_train_dataset = balance_dataset(train_loader.dataset, train_targets, min_samples_train)\n",
    "balanced_test_dataset = balance_dataset(test_loader.dataset, test_targets, min_samples_test)\n",
    "\n",
    "# Re-Initialize DataLoaders with Balanced Datasets\n",
    "train_loader_balanced = DataLoader(\n",
    "    balanced_train_dataset, batch_size=batch_size, shuffle=True, pin_memory=True, drop_last=True\n",
    ")\n",
    "test_loader_balanced = DataLoader(\n",
    "    balanced_test_dataset, batch_size=batch_size, shuffle=False, pin_memory=True, drop_last=True\n",
    ")\n",
    "\n",
    "# Verify New Dataset Sizes\n",
    "print(f\"Balanced Train Dataset Size: {len(train_loader_balanced.dataset)}\")\n",
    "print(f\"Balanced Test Dataset Size: {len(test_loader_balanced.dataset)}\")\n",
    "\n",
    "# Update Loaders and Datasets for Subsequent Use\n",
    "train_loader = train_loader_balanced\n",
    "test_loader = test_loader_balanced\n",
    "\n",
    "# Visualize a Random Image from the Balanced Training Dataset\n",
    "data_index = random.randint(0, len(train_loader.dataset) - 1)\n",
    "random_image, _ = train_loader.dataset[data_index]\n",
    "\n",
    "# Process Image for Display\n",
    "image_shape = (20, 20) if crop else (28, 28)\n",
    "processed_image = np.array([\n",
    "    np.sum([random_image[(i * bpp) + j] * (2 ** (bpp - j + 1)) for j in range(bpp)])\n",
    "    for i in range(image_shape[0] * image_shape[0])\n",
    "]).reshape(image_shape)\n",
    "\n",
    "# Plot the Processed Image\n",
    "plt.figure()\n",
    "plt.imshow(processed_image, cmap=\"gray\")\n",
    "plt.title(\"Sample Image from Balanced Dataset\")\n",
    "plt.show()"
   ]
  },
  {
   "cell_type": "markdown",
   "id": "20c940db-45b8-485c-90d9-f5c48474e11a",
   "metadata": {
    "jp-MarkdownHeadingCollapsed": true,
    "tags": []
   },
   "source": [
    "#### **Model Hyperparameters**"
   ]
  },
  {
   "cell_type": "markdown",
   "id": "b485ca94-7a5f-4f14-89c5-4767f8665e79",
   "metadata": {
    "tags": []
   },
   "source": [
    "Converts csv into yaml config file"
   ]
  },
  {
   "cell_type": "code",
   "execution_count": 4,
   "id": "05a7f3c1-3f23-4448-8155-8fc4a449e59f",
   "metadata": {
    "tags": []
   },
   "outputs": [],
   "source": [
    "# define first input and the name of the file to be saved\n",
    "if dataset_name == \"mnist\":\n",
    "    first_in_dim = 400*bpp\n",
    "    filename = \"config/mnist_config_20x20.yaml\"\n",
    "    df = pd.read_csv(\"config/mnist_hyperparameters.csv\")\n",
    "elif dataset_name == \"fashion_mnist\":\n",
    "    first_in_dim = 784*bpp\n",
    "    filename = \"config/fashion_mnist_config_28x28.yaml\"\n",
    "    df = pd.read_csv(\"config/fashion_mnist_hyperparameters.csv\")"
   ]
  },
  {
   "cell_type": "code",
   "execution_count": 5,
   "id": "ff39cc4e-6558-48d6-a671-1a4583301a1a",
   "metadata": {
    "tags": []
   },
   "outputs": [
    {
     "name": "stdout",
     "output_type": "stream",
     "text": [
      "YAML file 'config/mnist_config_20x20.yaml' generated successfully.\n"
     ]
    }
   ],
   "source": [
    "# convert the DataFrame to a list of dictionaries\n",
    "models = df.to_dict(orient=\"records\")\n",
    "\n",
    "# create the YAML structure\n",
    "yaml_structure = {\"models\": {}}\n",
    "\n",
    "# rounds the number to the nearest multiple of the output size\n",
    "def round_to_nearest_multiple(value, multiple):\n",
    "    return multiple * round(value / multiple)\n",
    "\n",
    "# populate the YAML structure with models\n",
    "for i, model in enumerate(models, start=1):\n",
    "    # zero-padding model names to 3 digits \n",
    "    model_name = f\"model_{str(i).zfill(3)}\"\n",
    "    layers_config = {}\n",
    "    \n",
    "    for layer in range(1, model[\"H\"] + 1):\n",
    "        # zero-padding the layer names to 3 digits\n",
    "        layer_name = f\"LogicLayer{str(layer).zfill(3)}\"\n",
    "        \n",
    "        # adjusts in_dim to the nearest multiple of 10\n",
    "        in_dim = first_in_dim if layer == 1 else round_to_nearest_multiple(model[\"W\"], 10)\n",
    "        \n",
    "        # adjusts out_dim to the nearest multiple of 10\n",
    "        out_dim = round_to_nearest_multiple(model[\"W\"], 10)\n",
    "        \n",
    "        layers_config[layer_name] = {\n",
    "            \"in_dim\": in_dim,\n",
    "            \"out_dim\": out_dim,\n",
    "            \"device\": \"cuda\",\n",
    "            \"implementation\": \"cuda\",\n",
    "            \"connections\": \"random\",\n",
    "            \"grad_factor\": 2, # we can try different grad_factor values as well\n",
    "        }\n",
    "    \n",
    "    yaml_structure[\"models\"][model_name] = {\n",
    "        \"input_dim\": first_in_dim, \n",
    "        \"output_size\": 10, # for MNIST classification\n",
    "        \"tau\": model[\"tau\"],\n",
    "        \"learning_rate\": model[\"lr\"],\n",
    "        \"layers_config\": layers_config,\n",
    "    }\n",
    "\n",
    "# saves to a YAML file\n",
    "with open(f'{filename}', \"w\") as file:\n",
    "    yaml.dump(yaml_structure, file, default_flow_style=False)\n",
    "\n",
    "print(f\"YAML file '{filename}' generated successfully.\")"
   ]
  },
  {
   "cell_type": "markdown",
   "id": "fbb817b1-81d9-40a0-87af-c9ad5bdf7fed",
   "metadata": {
    "tags": []
   },
   "source": [
    "#### **Model Function Declarations**"
   ]
  },
  {
   "cell_type": "code",
   "execution_count": 6,
   "id": "f0f4c875-b543-414c-8057-1eef2ed20b54",
   "metadata": {
    "tags": []
   },
   "outputs": [],
   "source": [
    "class DiffLogic(nn.Module):\n",
    "    def __init__(self, layers_config, output_size, tau=30):\n",
    "        \"\"\"\n",
    "        Initializes the DiffLogic model with the specified layer configurations, output size, and temperature parameter.\n",
    "\n",
    "        Args:\n",
    "            layers_config (dict): Configuration for each logic layer, including dimensions, device, implementation, connections, and grad factor.\n",
    "            output_size (int): The number of output groups (classes in a classification problem).\n",
    "            tau (int): Temperature parameter for the GroupSum operation.\n",
    "        \"\"\"\n",
    "        super(DiffLogic, self).__init__()\n",
    "        \n",
    "        # stores the logic layers\n",
    "        layers = []\n",
    "        for layer_name, config in layers_config.items():\n",
    "            layer = LogicLayer(\n",
    "                in_dim=config['in_dim'],\n",
    "                out_dim=config['out_dim'],\n",
    "                device=config['device'],\n",
    "                implementation=config['implementation'],\n",
    "                connections=config['connections'],\n",
    "                grad_factor=config['grad_factor']       \n",
    "            )\n",
    "            layers.append(layer)\n",
    "            print(layer)\n",
    "        \n",
    "        self.logic_layers = nn.Sequential(*layers)\n",
    "        self.group = GroupSum(k=output_size, tau=tau)\n",
    "        self.log_text = \"\"  # initializes logging string\n",
    "\n",
    "    def forward(self, x):\n",
    "        \"\"\"\n",
    "        Forward pass of the DiffLogic model.\n",
    "\n",
    "        Args:\n",
    "            x (torch.Tensor): Input tensor.\n",
    "\n",
    "        Returns:\n",
    "            torch.Tensor: Output tensor after processing through the logic layers and grouping operation.\n",
    "        \"\"\"\n",
    "        # moves tensor to GPU\n",
    "        if torch.cuda.is_available():\n",
    "            x = x.to('cuda')          \n",
    "        #x = torch.flatten(x)\n",
    "        logits = self.logic_layers(x)\n",
    "        group = self.group(logits)\n",
    "        return group\n",
    "    \n",
    "    def save(self, file_path, model_name='model', model_cfg=None):\n",
    "        \"\"\"\n",
    "        Saves the model's state dictionary plus all relevant architecture info\n",
    "        to the specified file path.\n",
    "\n",
    "        Args:\n",
    "            file_path (str): Path where the model will be saved.\n",
    "            model_name (str): Name of the saved model.\n",
    "            model_cfg (dict): The full dictionary that contains layer config,\n",
    "                              output_size, tau, learning rate, etc.\n",
    "        \"\"\"\n",
    "        checkpoint_data = {\n",
    "            'model_state_dict': self.state_dict(),\n",
    "            'connections': [\n",
    "                layer.indices \n",
    "                for layer in self.logic_layers \n",
    "                if isinstance(layer, LogicLayer)\n",
    "            ],\n",
    "            # Store the entire config so you can reconstruct everything\n",
    "            'model_config': {\n",
    "                'layers_config': model_cfg['layers_config'],\n",
    "                'output_size': model_cfg['output_size'],\n",
    "                'tau': model_cfg['tau'],\n",
    "                'learning_rate': model_cfg.get('learning_rate', None),\n",
    "            }\n",
    "        }\n",
    "\n",
    "        # Now dump that all out to disk\n",
    "        torch.save(checkpoint_data, os.path.join(file_path, f\"{model_name}.pth\"))\n",
    "        self.log_text += f\"Model saved to: {file_path}\\n\"\n",
    "\n",
    "\n",
    "    def load(self, file_path):\n",
    "        \"\"\"\n",
    "        Loads the model's state dictionary from the specified file path.\n",
    "\n",
    "        Args:\n",
    "            file_path (str): Path from which the model will be loaded.\n",
    "\n",
    "        Returns:\n",
    "            None\n",
    "        \"\"\"\n",
    "        checkpoint = torch.load(file_path)\n",
    "        self.load_state_dict(checkpoint['model_state_dict'])\n",
    "\n",
    "        # assigns connections to each LogicLayer\n",
    "        for idx, layer in enumerate(self.logic_layers):\n",
    "            if isinstance(layer, LogicLayer):\n",
    "                layer.indices = checkpoint['connections'][idx]\n",
    "\n",
    "        self.eval()\n",
    "        self.log_text += f\"Model loaded from: {file_path}\\n\"\n",
    "        \n",
    "    def get_accuracy(self, data_loader):\n",
    "        \"\"\"\n",
    "        Calculates the accuracy of the model against a data loader\n",
    "\n",
    "        Args:\n",
    "            data_loader: a DataLoader object, e.g. train_loader or test_loader\n",
    "\n",
    "        Returns:\n",
    "            float: The accuracy\n",
    "        \"\"\"\n",
    "        correct = 0\n",
    "        total = 0\n",
    "\n",
    "        # ensures that model is in evaluation mode\n",
    "        self.eval()\n",
    "\n",
    "        with torch.no_grad():  # Disable gradient calculation for inference\n",
    "            for batch_inputs, batch_outputs in tqdm(data_loader, desc=\"Running Inference\"):\n",
    "                batch_inputs, batch_outputs = batch_inputs.to('cuda'), batch_outputs.to('cuda')\n",
    "\n",
    "                # forward pass to get predictions\n",
    "                outputs = self(batch_inputs.float())\n",
    "\n",
    "                # gets the predicted class (index of the maximum logit)\n",
    "                _, predicted = torch.max(outputs.data, 1)\n",
    "\n",
    "                # counting correct predictions\n",
    "                total += batch_outputs.size(0)  # total number of samples in the batch\n",
    "                correct += (predicted == batch_outputs).sum().item()  # counting correct predictions\n",
    "\n",
    "        accuracy = correct / total\n",
    "        return accuracy\n",
    "\n",
    "    def get_log(self):\n",
    "        \"\"\"\n",
    "        Retrieves the log text and clears the log after retrieval.\n",
    "\n",
    "        Returns:\n",
    "            str: The log text.\n",
    "        \"\"\"\n",
    "        log_copy = self.log_text\n",
    "        self.log_text = \"\"  # Clear the log after returning\n",
    "        return log_copy"
   ]
  },
  {
   "cell_type": "code",
   "execution_count": 7,
   "id": "50e1677a-28ff-41fd-9892-987011fa85da",
   "metadata": {
    "tags": []
   },
   "outputs": [],
   "source": [
    "class EarlyStopper:\n",
    "    def __init__(self, patience=10, min_delta=0):\n",
    "        \"\"\"\n",
    "        Initializes the EarlyStopper to stop training if the performance doesn't improve after a certain number of epochs.\n",
    "\n",
    "        Args:\n",
    "            patience (int): Number of epochs to wait for an improvement.\n",
    "            min_delta (float): Minimum change to consider an improvement.\n",
    "        \"\"\"\n",
    "        self.patience = patience\n",
    "        self.min_delta = min_delta\n",
    "        self.best_loss = None\n",
    "        self.counter = 0\n",
    "\n",
    "    def should_stop(self, current_loss):\n",
    "        \"\"\"\n",
    "        Check if training should stop based on the current loss.\n",
    "\n",
    "        Args:\n",
    "            current_loss (float): The current loss.\n",
    "\n",
    "        Returns:\n",
    "            bool: True if training should stop, False otherwise.\n",
    "        \"\"\"\n",
    "        if self.best_loss is None:\n",
    "            self.best_loss = current_loss\n",
    "            return False\n",
    "        elif current_loss < self.best_loss - self.min_delta:\n",
    "            self.best_loss = current_loss\n",
    "            self.counter = 0\n",
    "            return False\n",
    "        else:\n",
    "            self.counter += 1\n",
    "            print(\"EarlyStopper Triggered: \", self.counter)\n",
    "            if self.counter >= self.patience:\n",
    "                return True\n",
    "            return False"
   ]
  },
  {
   "cell_type": "markdown",
   "id": "5761ed30-7e5c-4b77-8ad0-db1c0e0a3db1",
   "metadata": {
    "jp-MarkdownHeadingCollapsed": true,
    "tags": []
   },
   "source": [
    "#### **Training**"
   ]
  },
  {
   "cell_type": "code",
   "execution_count": 8,
   "id": "e21ebed7-b243-49fb-9731-ed6dc454480e",
   "metadata": {
    "tags": []
   },
   "outputs": [
    {
     "name": "stdout",
     "output_type": "stream",
     "text": [
      "training model model_001\n",
      "LogicLayer(400, 2500, train)\n",
      "LogicLayer(2500, 2500, train)\n",
      "model DiffLogic(\n",
      "  (logic_layers): Sequential(\n",
      "    (0): LogicLayer(400, 2500, train)\n",
      "    (1): LogicLayer(2500, 2500, train)\n",
      "  )\n",
      "  (group): GroupSum(k=10, tau=10)\n",
      ")\n"
     ]
    },
    {
     "name": "stderr",
     "output_type": "stream",
     "text": [
      "Epoch 1/1: 100%|██████████| 105/105 [00:58<00:00,  1.78it/s]\n"
     ]
    },
    {
     "name": "stdout",
     "output_type": "stream",
     "text": [
      "Epoch 1 Loss: 1.8179197958773952\n",
      "All models processed.\n"
     ]
    }
   ],
   "source": [
    "# initialize Hydra with the config path and job name\n",
    "with initialize(version_base=None, config_path=\"config\", job_name=\"Visualizer\"):\n",
    "    cfg = compose(config_name=f\"{dataset_name}_config_{image_shape[0]}x{image_shape[0]}\")\n",
    "\n",
    "# training loop for all models\n",
    "all_models_dict = {}\n",
    "num_epochs = 1 # just for debugging\n",
    "file_path = f'trained_models/{dataset_name}_trained_models' # where to save your trained models\n",
    "\n",
    "# loops through all model configs and trains each of them\n",
    "for model_name, model_cfg in cfg.models.items():\n",
    "    print(f'training model {model_name}')\n",
    "\n",
    "    # tracking dictionary\n",
    "    all_models_dict[model_name] = {\n",
    "        'losses': [],\n",
    "    }\n",
    "\n",
    "    # initializes DiffLogic model and moves to CUDA if available\n",
    "    model = DiffLogic(layers_config=model_cfg['layers_config'], \n",
    "                      output_size=model_cfg['output_size'], \n",
    "                      tau=model_cfg['tau']).to('cuda' if torch.cuda.is_available() else 'cpu')\n",
    "\n",
    "    # wraps the model with DataParallel to distribute workload across GPUs \n",
    "    #model = torch.nn.DataParallel(model)\n",
    "    \n",
    "    # optimizer and loss criterion\n",
    "    optimizer = torch.optim.Adam(model.parameters(), lr=model_cfg['learning_rate'])\n",
    "    criterion = nn.CrossEntropyLoss()\n",
    "\n",
    "    # early stopping\n",
    "    early_stopper = EarlyStopper(patience=5)\n",
    "\n",
    "    print('model', model)\n",
    "\n",
    "    for epoch in range(num_epochs):\n",
    "        loop = tqdm(train_loader, leave=True, desc=f'Epoch {epoch+1}/{num_epochs}')\n",
    "        epoch_loss = 0  # to track loss for an epoch            \n",
    "\n",
    "        for batch_inputs, batch_outputs in loop:\n",
    "            # move data to the appropriate device\n",
    "            device = 'cuda' if torch.cuda.is_available() else 'cpu'\n",
    "            batch_inputs, batch_outputs = batch_inputs.to(device).double(), batch_outputs.to(device).long()\n",
    "\n",
    "            # forward pass through the model\n",
    "            predictions = model(batch_inputs)  \n",
    "                        \n",
    "            loss = criterion(predictions, batch_outputs)\n",
    "            \n",
    "            # zero gradients, backpropagates, and updates model parameters\n",
    "            optimizer.zero_grad()\n",
    "            loss.backward()\n",
    "            optimizer.step()\n",
    "            \n",
    "            # accumulating the loss for the epoch\n",
    "            epoch_loss += loss.item()\n",
    "\n",
    "        # caclulating the average loss for the epoch\n",
    "        epoch_loss /= len(train_loader)\n",
    "        all_models_dict[model_name]['losses'].append(epoch_loss)\n",
    "        print(f'Epoch {epoch+1} Loss: {epoch_loss}')\n",
    "\n",
    "        # checks for early stopping\n",
    "        if early_stopper.should_stop(epoch_loss):\n",
    "            print(f\"Early stopping triggered for {model_name} at epoch {epoch+1}.\")\n",
    "            break\n",
    "\n",
    "    # saving trained model's state\n",
    "    model.save(file_path, model_name, model_cfg=model_cfg)\n",
    "\n",
    "print(\"All models processed.\")"
   ]
  },
  {
   "cell_type": "markdown",
   "id": "1e1583a9-f0c6-4381-8231-ea2d55668665",
   "metadata": {
    "tags": []
   },
   "source": [
    "#### **Model Loading**"
   ]
  },
  {
   "cell_type": "code",
   "execution_count": 10,
   "id": "7cfb5acb-96dc-4b53-9560-9dea237c164d",
   "metadata": {
    "tags": []
   },
   "outputs": [
    {
     "name": "stdout",
     "output_type": "stream",
     "text": [
      "LogicLayer(400, 2500, train)\n",
      "LogicLayer(2500, 2500, train)\n"
     ]
    },
    {
     "data": {
      "text/plain": [
       "DiffLogic(\n",
       "  (logic_layers): Sequential(\n",
       "    (0): LogicLayer(400, 2500, eval)\n",
       "    (1): LogicLayer(2500, 2500, eval)\n",
       "  )\n",
       "  (group): GroupSum(k=10, tau=10)\n",
       ")"
      ]
     },
     "execution_count": 10,
     "metadata": {},
     "output_type": "execute_result"
    }
   ],
   "source": [
    "model_name = 'model_001'\n",
    "file_path = f'trained_models/{dataset_name}_trained_models/{model_name}.pth' # where to save your trained models\n",
    "checkpoint = torch.load(file_path, map_location=\"cuda\")  # or \"cuda\"\n",
    "loaded_config = checkpoint['model_config']\n",
    "\n",
    "\n",
    "# Now reconstruct the model using the saved config\n",
    "model_reconstructed = DiffLogic(\n",
    "    layers_config=loaded_config['layers_config'],\n",
    "    output_size=loaded_config['output_size'],\n",
    "    tau=loaded_config['tau']\n",
    ")\n",
    "\n",
    "# Load the state_dict\n",
    "model_reconstructed.load_state_dict(checkpoint['model_state_dict'])\n",
    "\n",
    "# If needed, also restore the connections\n",
    "for idx, layer in enumerate(model_reconstructed.logic_layers):\n",
    "    if isinstance(layer, LogicLayer):\n",
    "        layer.indices = checkpoint['connections'][idx]\n",
    "\n",
    "model_reconstructed.eval()"
   ]
  },
  {
   "cell_type": "code",
   "execution_count": 11,
   "id": "cd17cfb4-a301-4d21-98b4-b8fdb346a980",
   "metadata": {},
   "outputs": [
    {
     "name": "stderr",
     "output_type": "stream",
     "text": [
      "Running Inference: 100%|██████████| 17/17 [00:12<00:00,  1.38it/s]\n"
     ]
    },
    {
     "data": {
      "text/plain": [
       "0.7548253676470589"
      ]
     },
     "execution_count": 11,
     "metadata": {},
     "output_type": "execute_result"
    }
   ],
   "source": [
    "model_reconstructed.get_accuracy(test_loader)"
   ]
  },
  {
   "cell_type": "markdown",
   "id": "b15edd58-29d0-46e6-9561-5a47b872a047",
   "metadata": {
    "tags": []
   },
   "source": [
    "#### **Get All Connections**"
   ]
  },
  {
   "cell_type": "code",
   "execution_count": 18,
   "id": "7221f442-5d88-4d86-a091-ae0ff54c5620",
   "metadata": {
    "tags": []
   },
   "outputs": [
    {
     "data": {
      "text/plain": [
       "[{'neuron_idx': 0, 'gate': 'and', 'inputs': (241, 12)},\n",
       " {'neuron_idx': 1, 'gate': 'not_b', 'inputs': (309, 388)},\n",
       " {'neuron_idx': 2, 'gate': 'xor', 'inputs': (252, 387)},\n",
       " {'neuron_idx': 3, 'gate': 'xor', 'inputs': (253, 57)},\n",
       " {'neuron_idx': 4, 'gate': 'not_xor', 'inputs': (263, 190)}]"
      ]
     },
     "execution_count": 18,
     "metadata": {},
     "output_type": "execute_result"
    }
   ],
   "source": [
    "def get_all_connections(model):\n",
    "    \n",
    "    # map gate names to indices\n",
    "    ALL_OPERATIONS = [\n",
    "        \"zero\", \"and\", \"not_implies\", \"a\", \"not_implied_by\", \"b\", \"xor\", \"or\", \n",
    "        \"not_or\", \"not_xor\", \"not_b\", \"implied_by\", \"not_a\", \"implies\", \"not_and\", \"one\"\n",
    "    ]\n",
    "\n",
    "    gates_per_layer = []\n",
    "    \n",
    "    for layer_idx, layer in enumerate(model.logic_layers):\n",
    "        layer_connections = []\n",
    "        \n",
    "        # for each neuron in the layer\n",
    "        for neuron_idx in range(layer.weights.size(0)):\n",
    "            # get the learned gate by taking the argmax of the weights for the neuron\n",
    "            gate_op_idx = layer.weights[neuron_idx].argmax().item()\n",
    "            learned_gate = ALL_OPERATIONS[gate_op_idx]\n",
    "\n",
    "            # get the input connections (indices) for the gate\n",
    "            input_neuron_a = layer.indices[0][neuron_idx].item()\n",
    "            input_neuron_b = layer.indices[1][neuron_idx].item()\n",
    "\n",
    "            # store the gate and connections\n",
    "            layer_connections.append({\n",
    "                'neuron_idx': neuron_idx,\n",
    "                'gate': learned_gate,\n",
    "                'inputs': (input_neuron_a, input_neuron_b),\n",
    "            })\n",
    "        \n",
    "        gates_per_layer.append(layer_connections)\n",
    "    \n",
    "    return gates_per_layer\n",
    "\n",
    "# retrieve all connections for the model\n",
    "connections = get_all_connections(model)\n",
    "connections[0][:5] # example displaying the first 5"
   ]
  },
  {
   "cell_type": "markdown",
   "id": "e8329f55-0480-4928-8b8c-c0dc078072cc",
   "metadata": {
    "tags": []
   },
   "source": [
    "#### **Convert into Json**"
   ]
  },
  {
   "cell_type": "code",
   "execution_count": 22,
   "id": "9549629a-0208-4665-a8d1-582c8c0b24fd",
   "metadata": {
    "tags": []
   },
   "outputs": [],
   "source": [
    "def transform_connections_to_json(connections):\n",
    "    layer_specs = []\n",
    "    for layer_idx, layer_conns in enumerate(connections):\n",
    "        layer_data = []\n",
    "        for conn in layer_conns:\n",
    "            # Convert 'inputs' tuple to a list so JSON will handle it\n",
    "            inputs_list = list(conn[\"inputs\"])  # e.g. (309, 103) -> [309, 103]\n",
    "\n",
    "            # Build each neuron connection dict\n",
    "            layer_data.append({\n",
    "                \"neuron_idx\": conn[\"neuron_idx\"],\n",
    "                \"gate\": conn[\"gate\"],\n",
    "                \"inputs\": inputs_list\n",
    "            })\n",
    "\n",
    "        # One entry per layer\n",
    "        layer_specs.append({\n",
    "            \"layer_idx\": layer_idx,\n",
    "            \"connections\": layer_data\n",
    "        })\n",
    "\n",
    "    # Pretty-print JSON string\n",
    "    return json.dumps(layer_specs, indent=2)\n",
    "\n",
    "connections_json = transform_connections_to_json(connections)\n",
    "with open(\"connections.json\", \"w\") as f:\n",
    "    f.write(connections_json)"
   ]
  },
  {
   "cell_type": "markdown",
   "id": "ab83376d-7ae1-43cd-ab6d-6abe5c540005",
   "metadata": {},
   "source": [
    "#### **Extracting Model Parameters**"
   ]
  },
  {
   "cell_type": "code",
   "execution_count": 28,
   "id": "6c1aaae8-bd0f-4968-adf6-50f3710acf00",
   "metadata": {
    "tags": []
   },
   "outputs": [],
   "source": [
    "model_name = 'model_001'\n",
    "file_path = f'trained_models/{dataset_name}_trained_models/{model_name}.pth' # where to save your trained models\n",
    "checkpoint = torch.load(file_path, map_location=\"cuda\")  # or \"cuda\"\n",
    "loaded_config = checkpoint['model_config']"
   ]
  },
  {
   "cell_type": "code",
   "execution_count": 29,
   "id": "684e1ae4-8f99-4abc-80be-e18d845d263c",
   "metadata": {
    "tags": []
   },
   "outputs": [
    {
     "data": {
      "text/plain": [
       "{'model_state_dict': OrderedDict([('logic_layers.0.weights',\n",
       "               tensor([[-0.0672,  1.9220, -0.9968,  ...,  0.9607, -1.1374,  1.8655],\n",
       "                       [-1.5337, -0.4288,  0.9440,  ..., -2.2876, -2.4655, -2.5941],\n",
       "                       [-0.0421,  0.3794, -0.3490,  ...,  0.6202, -0.0378,  0.5037],\n",
       "                       ...,\n",
       "                       [-0.2570, -0.9002,  0.1156,  ..., -1.8007, -0.1222, -1.4934],\n",
       "                       [-1.4102, -0.9311,  1.7573,  ..., -1.8845, -2.0175, -0.1830],\n",
       "                       [ 1.2210,  0.2777,  0.3703,  ...,  0.9924, -0.8301, -2.5824]],\n",
       "                      device='cuda:0')),\n",
       "              ('logic_layers.1.weights',\n",
       "               tensor([[-0.2500,  0.8593, -1.2279,  ..., -1.4946, -1.0206,  0.0125],\n",
       "                       [-1.1058,  0.9717, -0.9786,  ...,  1.8457, -2.3426, -1.2387],\n",
       "                       [-0.7938, -0.1460, -1.4591,  ..., -0.6128,  0.7427,  0.5009],\n",
       "                       ...,\n",
       "                       [-0.1099, -0.2998, -0.7317,  ..., -1.1587,  2.0011, -1.1070],\n",
       "                       [ 0.9442,  1.2687,  0.6751,  ...,  1.5658,  0.2423,  0.7008],\n",
       "                       [-1.2101,  0.1553, -0.6167,  ...,  0.4056, -0.2175, -0.2946]],\n",
       "                      device='cuda:0'))]),\n",
       " 'connections': [(tensor([241, 309, 252,  ..., 162, 225,  49], device='cuda:0'),\n",
       "   tensor([ 12, 388, 387,  ..., 381,  26, 203], device='cuda:0')),\n",
       "  (tensor([1983, 1790,  750,  ...,  759,   75, 1733], device='cuda:0'),\n",
       "   tensor([1293,  521, 2334,  ..., 2137, 1060,  547], device='cuda:0'))],\n",
       " 'model_config': {'layers_config': {'LogicLayer001': {'connections': 'random', 'device': 'cuda', 'grad_factor': 2, 'implementation': 'cuda', 'in_dim': 400, 'out_dim': 2500}, 'LogicLayer002': {'connections': 'random', 'device': 'cuda', 'grad_factor': 2, 'implementation': 'cuda', 'in_dim': 2500, 'out_dim': 2500}},\n",
       "  'output_size': 10,\n",
       "  'tau': 10,\n",
       "  'learning_rate': 0.01}}"
      ]
     },
     "execution_count": 29,
     "metadata": {},
     "output_type": "execute_result"
    }
   ],
   "source": [
    "checkpoint"
   ]
  },
  {
   "cell_type": "code",
   "execution_count": 27,
   "id": "a8851129-f342-4154-bfdc-60da4e297e64",
   "metadata": {
    "tags": []
   },
   "outputs": [
    {
     "name": "stdout",
     "output_type": "stream",
     "text": [
      "Layer: logic_layers.0.weights, Shape: torch.Size([2500, 16]), Device: cuda:0\n",
      "Layer: logic_layers.1.weights, Shape: torch.Size([2500, 16]), Device: cuda:0\n"
     ]
    },
    {
     "data": {
      "text/plain": [
       "{'logic_layers.0.weights': tensor([[-0.0672,  1.9220, -0.9968,  ...,  0.9607, -1.1374,  1.8655],\n",
       "         [-1.5337, -0.4288,  0.9440,  ..., -2.2876, -2.4655, -2.5941],\n",
       "         [-0.0421,  0.3794, -0.3490,  ...,  0.6202, -0.0378,  0.5037],\n",
       "         ...,\n",
       "         [-0.2570, -0.9002,  0.1156,  ..., -1.8007, -0.1222, -1.4934],\n",
       "         [-1.4102, -0.9311,  1.7573,  ..., -1.8845, -2.0175, -0.1830],\n",
       "         [ 1.2210,  0.2777,  0.3703,  ...,  0.9924, -0.8301, -2.5824]],\n",
       "        device='cuda:0'),\n",
       " 'logic_layers.1.weights': tensor([[-0.2500,  0.8593, -1.2279,  ..., -1.4946, -1.0206,  0.0125],\n",
       "         [-1.1058,  0.9717, -0.9786,  ...,  1.8457, -2.3426, -1.2387],\n",
       "         [-0.7938, -0.1460, -1.4591,  ..., -0.6128,  0.7427,  0.5009],\n",
       "         ...,\n",
       "         [-0.1099, -0.2998, -0.7317,  ..., -1.1587,  2.0011, -1.1070],\n",
       "         [ 0.9442,  1.2687,  0.6751,  ...,  1.5658,  0.2423,  0.7008],\n",
       "         [-1.2101,  0.1553, -0.6167,  ...,  0.4056, -0.2175, -0.2946]],\n",
       "        device='cuda:0')}"
      ]
     },
     "execution_count": 27,
     "metadata": {},
     "output_type": "execute_result"
    }
   ],
   "source": [
    "def extract_model_parameters(state_dict):\n",
    "    \"\"\"\n",
    "    Extracts and prints the weights from a given model state dictionary.\n",
    "\n",
    "    Args:\n",
    "        state_dict (OrderedDict): The state dictionary containing model parameters.\n",
    "\n",
    "    Returns:\n",
    "        dict: A dictionary where keys are layer names and values are their corresponding tensors.\n",
    "    \"\"\"\n",
    "    parameters = {}\n",
    "\n",
    "    for name, tensor in state_dict.items():\n",
    "        parameters[name] = tensor\n",
    "        print(f\"Layer: {name}, Shape: {tensor.shape}, Device: {tensor.device}\")\n",
    "    \n",
    "    return parameters\n",
    "\n",
    "extract_model_parameters(checkpoint['model_state_dict'])"
   ]
  }
 ],
 "metadata": {
  "kernelspec": {
   "display_name": "EXPLOGIC",
   "language": "python",
   "name": "explogic_env"
  },
  "language_info": {
   "codemirror_mode": {
    "name": "ipython",
    "version": 3
   },
   "file_extension": ".py",
   "mimetype": "text/x-python",
   "name": "python",
   "nbconvert_exporter": "python",
   "pygments_lexer": "ipython3",
   "version": "3.9.21"
  }
 },
 "nbformat": 4,
 "nbformat_minor": 5
}
